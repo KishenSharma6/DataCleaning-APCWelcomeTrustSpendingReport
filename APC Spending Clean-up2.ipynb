{
 "cells": [
  {
   "cell_type": "markdown",
   "metadata": {},
   "source": [
    "# Data Cleaning & Validation Practice\n",
    "\n",
    "In the following Notebook, I will be cleaning the Welcome Trust APC Spend(2012-2013) dataset utilizing what I have learned about RegEx. This dataset is composed of article open-access prices. From the README File:\n",
    "\n",
    "**Overview**:\n",
    "\n",
    "In an attempt to make the debate around the costs of open access publishing more evidence based, the Welcome Trust is releasing into the public domain details of its open access spending in the year 2012-2013, as reported by UK institutions and the Trust’s Major Overseas Programmes in receipt of an OA block grant (see: http://www.wellcome.ac.uk/About-us/Policy/Spotlight-issues/Open-access/Guides/WTX036803.htm).\n",
    "\n",
    "The data only includes information when an APC was levied. If an author has self-archived a paper, or the publisher provides a gold OA service (but makes no charge), this information is not included in this dataset.\n",
    "\n",
    "Equally, data  are not included in cases where a researcher (based at an institution not in receipt of an OA block grant) received a supplement to their grant to cover OA publishing costs.\n",
    "\n",
    "**Assignment**\n",
    "* Clean Dataset to the best of your ability\n",
    "* Determine the five most common journals and the total articles for each. \n",
    "* Calculate the mean, median, and standard deviation of the open-access cost per article for each journal."
   ]
  },
  {
   "cell_type": "markdown",
   "metadata": {},
   "source": [
    "### Read in libraries"
   ]
  },
  {
   "cell_type": "code",
   "execution_count": 4,
   "metadata": {},
   "outputs": [],
   "source": [
    "import pandas as pd\n",
    "import re\n",
    "import numpy as np\n",
    "import matplotlib as plt"
   ]
  },
  {
   "cell_type": "markdown",
   "metadata": {},
   "source": [
    "### Read in Data"
   ]
  },
  {
   "cell_type": "code",
   "execution_count": 5,
   "metadata": {},
   "outputs": [],
   "source": [
    "file = open(\"Welcome Trust APC spend (2012-13) - Original.csv\", errors='ignore')\n",
    "df = pd.read_csv(file, encoding=\"utf8\")"
   ]
  },
  {
   "cell_type": "markdown",
   "metadata": {},
   "source": [
    "## About the Data"
   ]
  },
  {
   "cell_type": "markdown",
   "metadata": {},
   "source": [
    "The dataset contains the following elements:\n",
    "\n",
    "**PMC ID/PMID**:To help the Trust identify whether a work is in PMC/Europe PMC, we ask institutions to cite the PMC ID (or the PubMed ID if a PMC ID is not known).  This data is not always 100% accurate.\n",
    "\n",
    "**Publisher**: This lists the name of the publisher, as reported by the institution.  As we do not impose any name authority control on this field, you will see the same publisher listed in different ways.  For example, OUP, Oxford University Press, and O.U.P.\n",
    "\n",
    "**Journal name**: This lists the name of the journal (which published the Wellcome-funded work), as reported by the institution.  Again, as we not impose any name authority control on this, you will see the same journal listed in different ways.  For example, PNAS, Proceedings of the National Academy of Sciences, P.N.A.S.\n",
    "\n",
    "**Article title**: This is the title of the article, as reported by the institution.\n",
    "\n",
    "**Cost**: The cost listed is the figure which the institution is claiming from the Wellcome Trust grant (to cover the OA publishing fee).  \n",
    "   - These costs exclude any page or colour charges which the publisher may levy. The cost quoted, includes VAT where applicable. All costs have been converted into £ sterling.\n",
    "   - As you look through the data you will see (for example) different prices cited for the same journal.  When these differences are small, it can be assumed that this reflects fluctuations in currency prices.  Where they are significant, then it should be assumed that other funders have contributed to the cost of that APC, and the figure cited is the Wellcome contribution to that APC."
   ]
  },
  {
   "cell_type": "markdown",
   "metadata": {},
   "source": [
    "## Data Preview"
   ]
  },
  {
   "cell_type": "code",
   "execution_count": 6,
   "metadata": {},
   "outputs": [
    {
     "data": {
      "text/html": [
       "<div>\n",
       "<style scoped>\n",
       "    .dataframe tbody tr th:only-of-type {\n",
       "        vertical-align: middle;\n",
       "    }\n",
       "\n",
       "    .dataframe tbody tr th {\n",
       "        vertical-align: top;\n",
       "    }\n",
       "\n",
       "    .dataframe thead th {\n",
       "        text-align: right;\n",
       "    }\n",
       "</style>\n",
       "<table border=\"1\" class=\"dataframe\">\n",
       "  <thead>\n",
       "    <tr style=\"text-align: right;\">\n",
       "      <th></th>\n",
       "      <th>PMID/PMCID</th>\n",
       "      <th>Publisher</th>\n",
       "      <th>Journal title</th>\n",
       "      <th>Article title</th>\n",
       "      <th>COST (£) charged to Wellcome (inc VAT when charged)</th>\n",
       "    </tr>\n",
       "  </thead>\n",
       "  <tbody>\n",
       "    <tr>\n",
       "      <th>0</th>\n",
       "      <td>NaN</td>\n",
       "      <td>CUP</td>\n",
       "      <td>Psychological Medicine</td>\n",
       "      <td>Reduced parahippocampal cortical thickness in ...</td>\n",
       "      <td>£0.00</td>\n",
       "    </tr>\n",
       "    <tr>\n",
       "      <th>1</th>\n",
       "      <td>PMC3679557</td>\n",
       "      <td>ACS</td>\n",
       "      <td>Biomacromolecules</td>\n",
       "      <td>Structural characterization of a Model Gram-ne...</td>\n",
       "      <td>£2381.04</td>\n",
       "    </tr>\n",
       "    <tr>\n",
       "      <th>2</th>\n",
       "      <td>23043264  PMC3506128</td>\n",
       "      <td>ACS</td>\n",
       "      <td>J Med Chem</td>\n",
       "      <td>Fumaroylamino-4,5-epoxymorphinans and related ...</td>\n",
       "      <td>£642.56</td>\n",
       "    </tr>\n",
       "    <tr>\n",
       "      <th>3</th>\n",
       "      <td>23438330 PMC3646402</td>\n",
       "      <td>ACS</td>\n",
       "      <td>J Med Chem</td>\n",
       "      <td>Orvinols with mixed kappa/mu opioid receptor a...</td>\n",
       "      <td>£669.64</td>\n",
       "    </tr>\n",
       "    <tr>\n",
       "      <th>4</th>\n",
       "      <td>23438216 PMC3601604</td>\n",
       "      <td>ACS</td>\n",
       "      <td>J Org Chem</td>\n",
       "      <td>Regioselective opening of myo-inositol orthoes...</td>\n",
       "      <td>£685.88</td>\n",
       "    </tr>\n",
       "  </tbody>\n",
       "</table>\n",
       "</div>"
      ],
      "text/plain": [
       "              PMID/PMCID Publisher           Journal title  \\\n",
       "0                    NaN       CUP  Psychological Medicine   \n",
       "1             PMC3679557       ACS       Biomacromolecules   \n",
       "2  23043264  PMC3506128        ACS              J Med Chem   \n",
       "3    23438330 PMC3646402       ACS              J Med Chem   \n",
       "4   23438216 PMC3601604        ACS              J Org Chem   \n",
       "\n",
       "                                       Article title  \\\n",
       "0  Reduced parahippocampal cortical thickness in ...   \n",
       "1  Structural characterization of a Model Gram-ne...   \n",
       "2  Fumaroylamino-4,5-epoxymorphinans and related ...   \n",
       "3  Orvinols with mixed kappa/mu opioid receptor a...   \n",
       "4  Regioselective opening of myo-inositol orthoes...   \n",
       "\n",
       "  COST (£) charged to Wellcome (inc VAT when charged)  \n",
       "0                                              £0.00   \n",
       "1                                           £2381.04   \n",
       "2                                            £642.56   \n",
       "3                                            £669.64   \n",
       "4                                            £685.88   "
      ]
     },
     "execution_count": 6,
     "metadata": {},
     "output_type": "execute_result"
    }
   ],
   "source": [
    "df.head()"
   ]
  },
  {
   "cell_type": "markdown",
   "metadata": {},
   "source": [
    "Additional Insights about the Dataset"
   ]
  },
  {
   "cell_type": "code",
   "execution_count": 7,
   "metadata": {},
   "outputs": [
    {
     "name": "stdout",
     "output_type": "stream",
     "text": [
      "<class 'pandas.core.frame.DataFrame'>\n",
      "RangeIndex: 2127 entries, 0 to 2126\n",
      "Data columns (total 5 columns):\n",
      "PMID/PMCID                                             1928 non-null object\n",
      "Publisher                                              2127 non-null object\n",
      "Journal title                                          2126 non-null object\n",
      "Article title                                          2127 non-null object\n",
      "COST (£) charged to Wellcome (inc VAT when charged)    2127 non-null object\n",
      "dtypes: object(5)\n",
      "memory usage: 83.2+ KB\n",
      "None \n",
      "\n",
      "PMID/PMCID                                             object\n",
      "Publisher                                              object\n",
      "Journal title                                          object\n",
      "Article title                                          object\n",
      "COST (£) charged to Wellcome (inc VAT when charged)    object\n",
      "dtype: object \n",
      "\n",
      "\n",
      "                PMID/PMCID Publisher Journal title  \\\n",
      "count                1928      2127          2126   \n",
      "unique               1880       299           984   \n",
      "top     Not yet available  Elsevier      PLoS One   \n",
      "freq                    7       387            92   \n",
      "\n",
      "                                            Article title  \\\n",
      "count                                                2127   \n",
      "unique                                               2126   \n",
      "top     Exclusive breastfeeding, diarrhoel morbidity a...   \n",
      "freq                                                    2   \n",
      "\n",
      "       COST (£) charged to Wellcome (inc VAT when charged)  \n",
      "count                                                2127   \n",
      "unique                                               1402   \n",
      "top                                              £2040.00   \n",
      "freq                                                   94   \n"
     ]
    }
   ],
   "source": [
    "print(df.info(), '\\n')\n",
    "print(df.dtypes, '\\n')\n",
    "print(\"\\n\",df.describe())"
   ]
  },
  {
   "cell_type": "markdown",
   "metadata": {},
   "source": [
    "## Data Cleaning\n",
    "\n",
    "#### Rename Column Headers"
   ]
  },
  {
   "cell_type": "code",
   "execution_count": 8,
   "metadata": {},
   "outputs": [
    {
     "data": {
      "text/html": [
       "<div>\n",
       "<style scoped>\n",
       "    .dataframe tbody tr th:only-of-type {\n",
       "        vertical-align: middle;\n",
       "    }\n",
       "\n",
       "    .dataframe tbody tr th {\n",
       "        vertical-align: top;\n",
       "    }\n",
       "\n",
       "    .dataframe thead th {\n",
       "        text-align: right;\n",
       "    }\n",
       "</style>\n",
       "<table border=\"1\" class=\"dataframe\">\n",
       "  <thead>\n",
       "    <tr style=\"text-align: right;\">\n",
       "      <th></th>\n",
       "      <th>pmcid/pmid</th>\n",
       "      <th>publisher</th>\n",
       "      <th>journal_title</th>\n",
       "      <th>article_title</th>\n",
       "      <th>cost(£)</th>\n",
       "    </tr>\n",
       "  </thead>\n",
       "  <tbody>\n",
       "    <tr>\n",
       "      <th>0</th>\n",
       "      <td>NaN</td>\n",
       "      <td>CUP</td>\n",
       "      <td>Psychological Medicine</td>\n",
       "      <td>Reduced parahippocampal cortical thickness in ...</td>\n",
       "      <td>£0.00</td>\n",
       "    </tr>\n",
       "    <tr>\n",
       "      <th>1</th>\n",
       "      <td>PMC3679557</td>\n",
       "      <td>ACS</td>\n",
       "      <td>Biomacromolecules</td>\n",
       "      <td>Structural characterization of a Model Gram-ne...</td>\n",
       "      <td>£2381.04</td>\n",
       "    </tr>\n",
       "  </tbody>\n",
       "</table>\n",
       "</div>"
      ],
      "text/plain": [
       "   pmcid/pmid publisher           journal_title  \\\n",
       "0         NaN       CUP  Psychological Medicine   \n",
       "1  PMC3679557       ACS       Biomacromolecules   \n",
       "\n",
       "                                       article_title   cost(£)  \n",
       "0  Reduced parahippocampal cortical thickness in ...     £0.00  \n",
       "1  Structural characterization of a Model Gram-ne...  £2381.04  "
      ]
     },
     "execution_count": 8,
     "metadata": {},
     "output_type": "execute_result"
    }
   ],
   "source": [
    "#set new column names\n",
    "cols = [\"pmcid/pmid\",\"publisher\",\"journal_title\",\"article_title\",\"cost(£)\"]\n",
    "\n",
    "#Apply new column names to df\n",
    "df.columns=cols\n",
    "\n",
    "#check\n",
    "df.head(2)"
   ]
  },
  {
   "cell_type": "markdown",
   "metadata": {},
   "source": [
    "#### Correct Column Types\n",
    "\n",
    "Remove the £ symbol from each cell in the **cost(£)** column and change column data type to numeric."
   ]
  },
  {
   "cell_type": "code",
   "execution_count": 9,
   "metadata": {},
   "outputs": [
    {
     "data": {
      "text/plain": [
       "pmcid/pmid        object\n",
       "publisher         object\n",
       "journal_title     object\n",
       "article_title     object\n",
       "cost(£)          float64\n",
       "dtype: object"
      ]
     },
     "execution_count": 9,
     "metadata": {},
     "output_type": "execute_result"
    }
   ],
   "source": [
    "#Replace £ with ''\n",
    "df['cost(£)']=df['cost(£)'].str.replace('£','')\n",
    "\n",
    "#there are $ throughout the column, removing\n",
    "df['cost(£)']=df['cost(£)'].str.replace('$','')\n",
    "\n",
    "##Convert cost(£) to numeric\n",
    "df['cost(£)']=pd.to_numeric(df['cost(£)'])\n",
    "\n",
    "#Check\n",
    "df.dtypes"
   ]
  },
  {
   "cell_type": "markdown",
   "metadata": {},
   "source": [
    "#### Investigate Missing Data\n",
    "\n",
    "Print number of missing values per column"
   ]
  },
  {
   "cell_type": "code",
   "execution_count": 10,
   "metadata": {},
   "outputs": [
    {
     "name": "stdout",
     "output_type": "stream",
     "text": [
      "# of missing values per column: \n",
      " pmcid/pmid       199\n",
      "publisher          0\n",
      "journal_title      1\n",
      "article_title      0\n",
      "cost(£)            0\n",
      "dtype: int64\n"
     ]
    }
   ],
   "source": [
    "print(\"# of missing values per column: \\n\", df.isnull().sum())"
   ]
  },
  {
   "cell_type": "markdown",
   "metadata": {},
   "source": [
    "For the most part, we are missing about 200 ID's but we do have the majority of the rows and columns. **Let's first investigate that missing Journal title.**"
   ]
  },
  {
   "cell_type": "code",
   "execution_count": 11,
   "metadata": {},
   "outputs": [
    {
     "data": {
      "text/html": [
       "<div>\n",
       "<style scoped>\n",
       "    .dataframe tbody tr th:only-of-type {\n",
       "        vertical-align: middle;\n",
       "    }\n",
       "\n",
       "    .dataframe tbody tr th {\n",
       "        vertical-align: top;\n",
       "    }\n",
       "\n",
       "    .dataframe thead th {\n",
       "        text-align: right;\n",
       "    }\n",
       "</style>\n",
       "<table border=\"1\" class=\"dataframe\">\n",
       "  <thead>\n",
       "    <tr style=\"text-align: right;\">\n",
       "      <th></th>\n",
       "      <th>pmcid/pmid</th>\n",
       "      <th>publisher</th>\n",
       "      <th>journal_title</th>\n",
       "      <th>article_title</th>\n",
       "      <th>cost(£)</th>\n",
       "    </tr>\n",
       "  </thead>\n",
       "  <tbody>\n",
       "    <tr>\n",
       "      <th>986</th>\n",
       "      <td>NaN</td>\n",
       "      <td>MacMillan</td>\n",
       "      <td>NaN</td>\n",
       "      <td>Fungal Disease in Britain and the United State...</td>\n",
       "      <td>13200.0</td>\n",
       "    </tr>\n",
       "  </tbody>\n",
       "</table>\n",
       "</div>"
      ],
      "text/plain": [
       "    pmcid/pmid  publisher journal_title  \\\n",
       "986        NaN  MacMillan           NaN   \n",
       "\n",
       "                                         article_title  cost(£)  \n",
       "986  Fungal Disease in Britain and the United State...  13200.0  "
      ]
     },
     "execution_count": 11,
     "metadata": {},
     "output_type": "execute_result"
    }
   ],
   "source": [
    "#let's look into the null value for the journal title\n",
    "df[df.journal_title.isnull()]"
   ]
  },
  {
   "cell_type": "markdown",
   "metadata": {},
   "source": [
    "At index 986, row is missing both a value in the pmcid/pmid and journal_title column. Checking for duplicates for the article_title column. Additionally, check for additional duplicate rows in the dataset and remove them."
   ]
  },
  {
   "cell_type": "code",
   "execution_count": 12,
   "metadata": {},
   "outputs": [
    {
     "name": "stdout",
     "output_type": "stream",
     "text": [
      "     pmcid/pmid                  publisher journal_title  \\\n",
      "1490    Pending  Public Library of Science      PLoS One   \n",
      "1496        NaN  Public Library of Science      PLoS One   \n",
      "\n",
      "                                          article_title  cost(£)  \n",
      "1490  Exclusive breastfeeding, diarrhoel morbidity a...   825.68  \n",
      "1496  Exclusive breastfeeding, diarrhoel morbidity a...   825.68  \n"
     ]
    }
   ],
   "source": [
    "#Check for any duplicated article titles, specifically for index 986\n",
    "print(df[df.article_title.duplicated(keep=False)])\n",
    "\n",
    "#Remove any duplicated rows\n",
    "df.drop_duplicates(inplace=True)"
   ]
  },
  {
   "cell_type": "code",
   "execution_count": 13,
   "metadata": {},
   "outputs": [
    {
     "data": {
      "text/plain": [
       "pmcid/pmid                                                 Unknown\n",
       "publisher                                                MacMillan\n",
       "journal_title                                              Unknown\n",
       "article_title    Fungal Disease in Britain and the United State...\n",
       "cost(£)                                                      13200\n",
       "Name: 986, dtype: object"
      ]
     },
     "execution_count": 13,
     "metadata": {},
     "output_type": "execute_result"
    }
   ],
   "source": [
    "#insert unknown values for missing info @index 986 \n",
    "df.loc[(df.journal_title.isnull()), 'pmcid/pmid']='Unknown'\n",
    "df.loc[(df.journal_title.isnull()), 'journal_title']='Unknown'\n",
    "\n",
    "#Check\n",
    "df.iloc[986,:]"
   ]
  },
  {
   "cell_type": "markdown",
   "metadata": {},
   "source": [
    "**Missing values in pmcid/pmid column**\n",
    "\n",
    "Because we have no missing values in the columns other than pmcid/pmc, I will replace those null values with \"UNKNOWN\". Someone with domain knowledge may be able to reverse engineer the ID's using the publisher, journal_title, article_title, and cost(£) columns."
   ]
  },
  {
   "cell_type": "code",
   "execution_count": 14,
   "metadata": {},
   "outputs": [],
   "source": [
    "#Replace NA's with 'Unknown'\n",
    "df['pmcid/pmid'].fillna('UNKNOWN', inplace=True)"
   ]
  },
  {
   "cell_type": "markdown",
   "metadata": {},
   "source": [
    "# Apply RegEx to cleaning pmid/pmcid column"
   ]
  },
  {
   "cell_type": "markdown",
   "metadata": {},
   "source": [
    "A couple questions about the ID's in this column before I make any changes:\n",
    "* What are the differences between PMC/PubMed ID vs the PMC ID?\n",
    "* What is the best way to track progress through cleaning this column?\n",
    "    * Would it be best to define a format and count the number of cells that do not meet this format(format being length of the string)?"
   ]
  },
  {
   "cell_type": "markdown",
   "metadata": {},
   "source": [
    "**What are the differences between the PMC ID and PubMedID?**"
   ]
  },
  {
   "cell_type": "code",
   "execution_count": 15,
   "metadata": {},
   "outputs": [
    {
     "name": "stdout",
     "output_type": "stream",
     "text": [
      "PMC ID's: \n",
      " 1               PMC3679557\n",
      "2    23043264  PMC3506128 \n",
      "3      23438330 PMC3646402\n",
      "4     23438216 PMC3601604 \n",
      "5               PMC3579457\n",
      "Name: pmcid/pmid, dtype: object\n",
      "\n",
      "PMCID ID's: \n",
      " 2090           PMCID: PMC3779110\n",
      "2101           PMCID: PMC3664106\n",
      "2106           PMCID: PMC3600532\n",
      "2111           PMCID: PMC3728731\n",
      "2125    PMCID:\\n    PMC3647051\\n\n",
      "Name: pmcid/pmid, dtype: object\n",
      "\n",
      "PMID ID's: \n",
      " 19    PMID: 24015914 PMC3833349 \n",
      "29                PMID: 20146481\n",
      "31      PMID:23281892 PMC3579312\n",
      "49    PMID: 23477577 PMC3727344 \n",
      "59       PMID: 23409903 23409903\n",
      "Name: pmcid/pmid, dtype: object\n"
     ]
    }
   ],
   "source": [
    "#Extract cells containing PMC\n",
    "print(\"PMC ID's: \\n\", df['pmcid/pmid'][df['pmcid/pmid'].str.contains('PMC')].head(5))\n",
    "\n",
    "#Extract cells containing PMCID\n",
    "print(\"\\nPMCID ID's: \\n\", df['pmcid/pmid'][df['pmcid/pmid'].str.contains('PMCID')].tail(5))\n",
    "\n",
    "#Extract cells containing PMID\n",
    "print(\"\\nPMID ID's: \\n\", df['pmcid/pmid'][df['pmcid/pmid'].str.contains('PMID')].head(5))"
   ]
  },
  {
   "cell_type": "markdown",
   "metadata": {},
   "source": [
    "PMC ID's contain 7 digits while PMID's contain 8 digits. Additionally, some of these cells contain both kinds of ID's while others only contain one kind of ID."
   ]
  },
  {
   "cell_type": "markdown",
   "metadata": {},
   "source": [
    "**What is the best way to track progress through cleaning this column?**"
   ]
  },
  {
   "cell_type": "markdown",
   "metadata": {},
   "source": [
    "My initial thoughts are that I would like all values in the pmcid/pmid column to have one of the following fomats:\n",
    "* String for missing values: UNKNOWN \n",
    "* 10 character length string indicating PMC ID formatted like so: PMC#######\n",
    "* 12 character length string indicating PMID formatted like so: PMID########\n",
    "* 23 character length string indicating PMC ID and PMID in the same cell formatted either: PMC####### PMID######## | PMID######## PMC#######"
   ]
  },
  {
   "cell_type": "code",
   "execution_count": 16,
   "metadata": {},
   "outputs": [],
   "source": [
    "#Count rows that meet condition.Subtract from total # of ID's to determine number of ID's that need cleaning \n",
    "def condition1(x):\n",
    "    length=0\n",
    "    if x == 'UNKNOWN':\n",
    "        length +=1\n",
    "    elif len(str(x)) == 10:\n",
    "        length +=1\n",
    "    elif len(str(x)) == 12:\n",
    "        length +=1\n",
    "    elif len(str(x)) == 23:\n",
    "        length +=1\n",
    "        return length\n",
    "    else:\n",
    "        length += 0\n",
    "    return length"
   ]
  },
  {
   "cell_type": "markdown",
   "metadata": {},
   "source": [
    "Easiest place to start would be to standardize this column as best we can\n",
    "* Strip Whitespace\n",
    "* Convert column to all uppercase\n",
    "* Locate 7 digit strings and add PMC to front\n",
    "* Locate 8 digit strings and add PMID to front\n",
    "* Remove all instances of PMCID\n",
    "* Replace - with UNKNOWN\n",
    "* Replace \\s+ with \\s\n",
    "* Strip Whitespace "
   ]
  },
  {
   "cell_type": "code",
   "execution_count": 17,
   "metadata": {},
   "outputs": [
    {
     "name": "stdout",
     "output_type": "stream",
     "text": [
      "Number of ID's left to investigate:  341\n"
     ]
    }
   ],
   "source": [
    "#Let's also remove \\n and strip trailing and leading white spaces\n",
    "df['pmcid/pmid']=df['pmcid/pmid'].str.strip()\n",
    "\n",
    "#Convert column to all uppercase\n",
    "df['pmcid/pmid']=df['pmcid/pmid'].str.upper()\n",
    "\n",
    "#Locate 7 digit strings and add PMC to front\n",
    "df['pmcid/pmid']=df['pmcid/pmid'].apply(lambda x: 'PMC' + x if any(pd.Series(x).str.contains(r'^[0-9]{7,7}$')) else x)\n",
    "\n",
    "#Locate 8 digit strings and add PMID to front\n",
    "df['pmcid/pmid']=df['pmcid/pmid'].apply(lambda x: 'PMID' + x if any(pd.Series(x).str.contains(r'^[0-9]{8,8}')) else x)\n",
    "\n",
    "#Remove all instances of PMCID\n",
    "df['pmcid/pmid']=df['pmcid/pmid'].str.replace(r'PMCID:*',' ', regex=True)\n",
    "\n",
    "#Replace - with UNKNOWN\n",
    "df['pmcid/pmid']=df['pmcid/pmid'].apply(lambda x: 'UNKNOWN' if any(pd.Series(x).str.contains(r'^\\s*\\-\\s*$')) else x)\n",
    "\n",
    "#Replace \\s+ with \\s\n",
    "df['pmcid/pmid']=df['pmcid/pmid'].str.replace(r'\\s+', ' ', regex=True)\n",
    "\n",
    "#Strip White space\n",
    "df['pmcid/pmid']=df['pmcid/pmid'].str.strip()\n",
    "\n",
    "#number of ID's to investigate\n",
    "print(\"Number of ID's left to investigate: \", len(df)-sum(df['pmcid/pmid'].apply(condition1)))"
   ]
  },
  {
   "cell_type": "markdown",
   "metadata": {},
   "source": [
    "To Do\n",
    "* Remove any numbers less than 7 integers in length\n",
    "* Replace any strings without digits with UNKNOWN\n",
    "* Remove :\n",
    "* Fill blanks with UNKNOWN\n",
    "* Strip white space"
   ]
  },
  {
   "cell_type": "code",
   "execution_count": 18,
   "metadata": {},
   "outputs": [
    {
     "name": "stdout",
     "output_type": "stream",
     "text": [
      "Number of ID's left to investigate:  209\n"
     ]
    }
   ],
   "source": [
    "#Remove any numbers less than 7 integers in length\n",
    "df['pmcid/pmid']=df['pmcid/pmid'].str.replace(r'(^|\\s)[0-9]{1,6}(\\s|,|$)', ' ', regex=True, case=False)\n",
    "\n",
    "#Replace any strings without an digits with UNKNOWN\n",
    "df['pmcid/pmid']=df['pmcid/pmid'].str.replace(r'^[\\D]+$', 'UNKNOWN', regex=True, case=False)\n",
    "\n",
    "#Remove :\n",
    "df['pmcid/pmid']=df['pmcid/pmid'].str.replace(r'\\s*\\:', '', regex=True, case=False)\n",
    "\n",
    "#Fill Blanks with UNKNOWN\n",
    "df['pmcid/pmid']=df['pmcid/pmid'].str.replace(r'^\\s*$', 'UNKNOWN', regex=True)\n",
    "\n",
    "#Strip White space\n",
    "df['pmcid/pmid']=df['pmcid/pmid'].str.strip()\n",
    "\n",
    "#number of ID's to investigate\n",
    "print(\"Number of ID's left to investigate: \", len(df)-sum(df['pmcid/pmid'].apply(condition1)))"
   ]
  },
  {
   "cell_type": "markdown",
   "metadata": {},
   "source": [
    "TO DO\n",
    "* Remove /, (), [],-\n",
    "* Replace PMID\\s with PMID\n",
    "* Replace PMC\\s with PMC\n",
    "* Remove PMID Clones\n",
    "* Add PMC in front of 7 digit numbers\n",
    "* Fix the \\s\\s\n",
    "* Strip Whitespace"
   ]
  },
  {
   "cell_type": "code",
   "execution_count": 19,
   "metadata": {},
   "outputs": [
    {
     "name": "stdout",
     "output_type": "stream",
     "text": [
      "Number of ID's left to investigate:  14\n"
     ]
    }
   ],
   "source": [
    "#Remove /, (), [],-\n",
    "df['pmcid/pmid']=df['pmcid/pmid'].str.replace(r'[\\/\\-(),]', ' ', regex=True, case=False)\n",
    "\n",
    "#Replace PMID\\s with PMID\n",
    "df['pmcid/pmid']=df['pmcid/pmid'].str.replace(r'^PMID\\s', 'PMID', regex=True, case=False)\n",
    "\n",
    "#Remove PMID Clones\n",
    "df['pmcid/pmid']=df['pmcid/pmid'].str.replace(r'\\s[0-9]{8,8}', '', regex=True, case=False)\n",
    "\n",
    "#Add PMC in front of 7 digit numbers\n",
    "df['pmcid/pmid']=df['pmcid/pmid'].apply(lambda x: 'PMC' + x if any(pd.Series(x).str.contains(r'^[0-9]{7,7}$')) else x)\n",
    "\n",
    "\n",
    "#Replace PMC\\s with PMC\n",
    "df['pmcid/pmid']=df['pmcid/pmid'].str.replace(r'PMC\\s', 'PMC', regex=True, case=False)\n",
    "\n",
    "#fix \\s\\s\n",
    "df['pmcid/pmid']=df['pmcid/pmid'].str.replace(r'\\s\\s+', ' ', regex=True, case=False)\n",
    "\n",
    "#Strip White space\n",
    "df['pmcid/pmid']=df['pmcid/pmid'].str.strip()\n",
    "\n",
    "#number of ID's to investigate\n",
    "print(\"Number of ID's left to investigate: \", len(df)-sum(df['pmcid/pmid'].apply(condition1)))"
   ]
  },
  {
   "cell_type": "markdown",
   "metadata": {},
   "source": [
    "TO DO\n",
    "* Remove 6 digit PMC344470\n",
    "* Remove PMID23495205685.88\n",
    "* Correct MC3489778\n",
    "* Remove the random jibberish"
   ]
  },
  {
   "cell_type": "code",
   "execution_count": 20,
   "metadata": {},
   "outputs": [
    {
     "name": "stdout",
     "output_type": "stream",
     "text": [
      "Number of ID's left to investigate:  1\n"
     ]
    },
    {
     "name": "stderr",
     "output_type": "stream",
     "text": [
      "C:\\Users\\kishe\\Miniconda3\\lib\\site-packages\\pandas\\core\\strings.py:1843: UserWarning: This pattern has match groups. To actually get the groups, use str.extract.\n",
      "  return func(self, *args, **kwargs)\n"
     ]
    }
   ],
   "source": [
    "#Remove 6 digit PMC344470\n",
    "df['pmcid/pmid']=df['pmcid/pmid'].str.replace(r'\\sPMC344470', '', regex=True, case=False)\n",
    "\n",
    "#Remove PMID23495205685.88\n",
    "df['pmcid/pmid']=df['pmcid/pmid'].str.replace(r'PMID23495205685.88\\s', '', regex=True, case=False)\n",
    "\n",
    "\n",
    "#Correct MC3489778\n",
    "df['pmcid/pmid']=df['pmcid/pmid'].str.replace(r'MC3489778', 'PMC3489778', regex=True, case=False)\n",
    "\n",
    "#Remove the random jibberish\n",
    "\n",
    "#add PMC in front of 7 digit number\n",
    "df['pmcid/pmid']=df['pmcid/pmid'].apply(lambda x: 'PMC' + x if any(pd.Series(x).str.contains(r'(^[0-9]{7,7}|\\s[0-9]{7,7}$)')) else x)\n",
    "\n",
    "#Remove Bracket and text\n",
    "df['pmcid/pmid']=df['pmcid/pmid'].str.replace(r'\\s(\\[.*\\])', '', regex=True, case=False)\n",
    "\n",
    "#Clean-up\n",
    "df['pmcid/pmid']=df['pmcid/pmid'].str.replace(r'Id is\\s', '', regex=True, case=False)\n",
    "\n",
    "#manually update remaining\n",
    "df.iloc[367,0]='PMID23931634'\n",
    "df.iloc[1036,0]= 'PMID23703681'\n",
    "df.iloc[1052,0]= 'PMC3476715'\n",
    "df.iloc[1071,0]= 'PMID23962810'\n",
    "df.iloc[1231,0]= 'PMID24048963'\n",
    "df.iloc[1716,0]= 'PMID23828613'\n",
    "df.iloc[2126,0]= 'PMID23846567'\n",
    "\n",
    "#Strip White space\n",
    "df['pmcid/pmid']=df['pmcid/pmid'].str.strip()\n",
    "\n",
    "#number of ID's to investigate\n",
    "print(\"Number of ID's left to investigate: \", len(df)-sum(df['pmcid/pmid'].apply(condition1)))"
   ]
  },
  {
   "cell_type": "code",
   "execution_count": 21,
   "metadata": {},
   "outputs": [
    {
     "ename": "NameError",
     "evalue": "name 'condition' is not defined",
     "output_type": "error",
     "traceback": [
      "\u001b[1;31m---------------------------------------------------------------------------\u001b[0m",
      "\u001b[1;31mNameError\u001b[0m                                 Traceback (most recent call last)",
      "\u001b[1;32m<ipython-input-21-d9c9ba6a559b>\u001b[0m in \u001b[0;36m<module>\u001b[1;34m\u001b[0m\n\u001b[1;32m----> 1\u001b[1;33m \u001b[0mdf\u001b[0m\u001b[1;33m[\u001b[0m\u001b[1;34m'pmcid/pmid'\u001b[0m\u001b[1;33m]\u001b[0m\u001b[1;33m.\u001b[0m\u001b[0mloc\u001b[0m\u001b[1;33m[\u001b[0m\u001b[0mcondition\u001b[0m\u001b[1;33m]\u001b[0m\u001b[1;33m.\u001b[0m\u001b[0mhead\u001b[0m\u001b[1;33m(\u001b[0m\u001b[1;36m11\u001b[0m\u001b[1;33m)\u001b[0m\u001b[1;33m\u001b[0m\u001b[1;33m\u001b[0m\u001b[0m\n\u001b[0m",
      "\u001b[1;31mNameError\u001b[0m: name 'condition' is not defined"
     ]
    }
   ],
   "source": [
    "df['pmcid/pmid'].loc[condition].head(11)"
   ]
  },
  {
   "cell_type": "markdown",
   "metadata": {},
   "source": [
    "Perfect, let's move onto cleaning up the Publisher Column"
   ]
  },
  {
   "cell_type": "markdown",
   "metadata": {},
   "source": [
    "### Cleaning Publisher Title column"
   ]
  },
  {
   "cell_type": "markdown",
   "metadata": {},
   "source": [
    "**Metrics**\n",
    "I think it would be wise to attempt to reduce the number of unique Journal Titles as much as possible. "
   ]
  },
  {
   "cell_type": "code",
   "execution_count": null,
   "metadata": {},
   "outputs": [],
   "source": [
    "#print('\\nUnique Journal Titles are: \\n', df.publisher.unique())\n",
    "print('The number of unique Publisher Titles in dataset: \\n',df.publisher.nunique())"
   ]
  },
  {
   "cell_type": "markdown",
   "metadata": {},
   "source": [
    "Let's start with the easy fixes:\n",
    "* Turn text into all-caps\n",
    "* Replace & with AND\n",
    "* Remove INC, LTD,LLC \\, -, (), and ,\n",
    "* Remove any text relating to publishing(redundant)\n",
    "* Strip White Space and \\n"
   ]
  },
  {
   "cell_type": "code",
   "execution_count": null,
   "metadata": {},
   "outputs": [],
   "source": [
    "#Turn text into all-caps\n",
    "df['publisher']=df['publisher'].str.upper()\n",
    "\n",
    "# Replace & with AND\n",
    "df['publisher']=df['publisher'].str.replace(r'&', 'AND', regex=True)\n",
    "\n",
    "#Remove INC, LTD,LLC, \\, -, (), and ,\n",
    "df['publisher']=df['publisher'].str.replace(r'[-(),\\/]', ' ', regex=True)\n",
    "df['publisher']=df['publisher'].str.replace(r'\\bltd|inc|llc\\.*\\s*\\b', '', case=False)\n",
    "\n",
    "#Remove publishing @ end of strings\n",
    "df['publisher']=df['publisher'].str.replace(r'publish(ing|ers|er)\\.*$', '', regex=True, case=False)\n",
    "df['publisher']=df['publisher'].str.replace(r'publication(s|\\s*)$', ' ', regex=True, case=False)\n",
    "\n",
    "\n",
    "#Strip White Space\n",
    "df['publisher']=df['publisher'].str.strip()\n",
    "\n",
    "#Number of Unique Journal Titles remaining\n",
    "print('The number of unique Publisher Titles in dataset: \\n',df.publisher.nunique())"
   ]
  },
  {
   "cell_type": "code",
   "execution_count": null,
   "metadata": {},
   "outputs": [],
   "source": [
    "# df.publisher.unique()"
   ]
  },
  {
   "cell_type": "markdown",
   "metadata": {},
   "source": [
    "For the remaining cells to clean, I will approach by Journal Title to standardize titles and correct mispellings that are specific to each title.\n",
    "\n",
    "To Do (Grouping Journals starting with A-C)\n",
    "* Replace ACS to American Chemical Society\n",
    "* AMERICAN PSYCHIATRIC ASSOCIATION\n",
    "* Straighten out the spelling for 'AMERICAN SOCIETY FOR BIOCHEMISTRY AND MOLECULAR BIOLOGY'\n",
    "* Straighten out the spelling for 'AMERICAN SOCIETY OF HEMATOLOGY'\n",
    "* Replace ASM  with AMERICAN SOCIETY FOR MICROBIOLOGY\n",
    "* BENTHAN SCIENCE should be BENTHAM SCIENCE\n",
    "* BLACKWELL  WILEY should be WILEY BLACKWELL  \n",
    "* CADMUS JOURNAL SERVICES\n",
    "* CAMBRIDGE UNIVERSITY PRESS'\n",
    "* COLD SPRING HARBOR LABORATORY PRESS"
   ]
  },
  {
   "cell_type": "code",
   "execution_count": null,
   "metadata": {},
   "outputs": [],
   "source": [
    "#American Chemical Society\n",
    "df['publisher']=df['publisher'].str.replace(r'ACS.*', 'AMERICAN CHEMICAL SOCIETY', case=False, regex=True)\n",
    "\n",
    "#AMERICAN PSYCHIATRIC ASSOCIATION\n",
    "df['publisher']=df['publisher'].str.replace(r'.*PSYCHIATRIC.*', 'AMERICAN PSYCHIATRIC ASSOCIATION',case=False, regex=True)\n",
    "\n",
    "#Straighten out the spelling for 'AMERICAN SOCIETY FOR BIOCHEMISTRY AND MOLECULAR BIOLOGY'\n",
    "df['publisher']=df['publisher'].str.replace(r'^American\\sSoc(\\s|iety).*', \n",
    "                                            'THE AMERICAN SOCIETY FOR BIOCHEMISTRY AND MOLECULAR BIOLOGY',case=False, regex=True)\n",
    "\n",
    "#Straighten out the spelling for 'AMERICAN SOCIETY OF HEMATOLOGY'\n",
    "df['publisher']=df['publisher'].str.replace(r'H(AE|E)MATOLOGY', 'HEMATOLOGY', case=False, regex=True)\n",
    "                                            \n",
    "#Replace ASM  with AMERICAN SOCIETY FOR MICROBIOLOGY\n",
    "df['publisher']=df['publisher'].str.replace(r'^ASM.*', 'AMERICAN SOCIETY FOR MICROBIOLOGY', case=False, regex=True)\n",
    "\n",
    "#BENTHAN SCIENCE should be BENTHAM SCIENCE\n",
    "df['publisher']=df['publisher'].str.replace(r'BENTHAN', 'BENTHAM', case=False, regex=True)\n",
    "\n",
    "#BLACKWELL  WILEY should be WILEY BLACKWELL \n",
    "df['publisher']=df['publisher'].str.replace(r'^blackwell\\s+wiley','WILEY BLACKWELL', case=False, regex=True)\n",
    "\n",
    "#Correct CADMUS JOURNAL SERVICES\n",
    "df['publisher']=df['publisher'].str.replace(r'CA(DM|MD)US.*','CADMUS JOURNAL SERVICES', case=False, regex=True)\n",
    "\n",
    "#CAMBRIDGE UNIVERSITY PRESS and CUP = CAMBRIDGE UNIVERSITY PRESS\n",
    "df['publisher']=df['publisher'].str.replace(r'^(CUP|cambridge).*', \n",
    "                                            'CAMBRIDGE UNIVERSITY PRESS',case=False, regex=True)\n",
    "\n",
    "#COLD SPRING HARBOR LABORATORY PRESS\n",
    "df['publisher']=df['publisher'].str.replace(r'COLD.*', \n",
    "                                            'COLD SPRING HARBOR LABORATORY PRESS',case=False, regex=True)\n",
    "\n",
    "#THE COMPANY OF BIOLOGISTS\n",
    "df['publisher']=df['publisher'].str.replace(r'.*biol(ogi|gi)st[a-z]*$', 'THE COMPANY OF BIOLOGISTS',case=False, regex=True)\n",
    "                                            \n",
    "#Strip White Space\n",
    "df['publisher']=df['publisher'].str.strip()\n",
    "\n",
    "#Number of Unique Journal Titles remaining\n",
    "print('The number of unique Publisher Titles in dataset: \\n',df.publisher.nunique())"
   ]
  },
  {
   "cell_type": "code",
   "execution_count": null,
   "metadata": {},
   "outputs": [],
   "source": [
    "#df.publisher.unique()"
   ]
  },
  {
   "cell_type": "markdown",
   "metadata": {},
   "source": [
    "Next Set of To Do for D-H\n",
    "* Dartmouth Journal Services\n",
    "* Elsevier\n",
    "* THE ENDOCRINE SOCIETY\n",
    "* EUROPEAN SOCIETY OF ENDOCRINOLOGY\n",
    "* FASEB\n",
    "* FRONTIERS MEDIA\n",
    "* HINDAWI\n",
    "* HUMANA PRESS  SPRINGER IMPRINT(spacing)\n"
   ]
  },
  {
   "cell_type": "code",
   "execution_count": null,
   "metadata": {},
   "outputs": [],
   "source": [
    "#Dartmouth Journal Services\n",
    "df['publisher']=df['publisher'].str.replace(r'da(rt|r)mouth.*',\n",
    "                                            'DARTMOUTH JOURNAL SERVICES',case=False, regex=True)\n",
    "#Elsevier\n",
    "df['publisher']=df['publisher'].str.replace(r'^Elsev(eie|ie)r.*', 'ELSEVIER',case=False, regex=True)\n",
    "\n",
    "#THE ENDOCRINE SOCIETY\n",
    "df['publisher']=df['publisher'].str.replace(r'\\w*\\s*end(ro|o)crine soc(ie|e)ty', 'THE ENDOCRINE SOCIETY',case=False, regex=True)\n",
    "\n",
    "#EUROPEAN SOCIETY OF ENDOCRINOLOGY\n",
    "df['publisher']=df['publisher'].str.replace(r'ENDOCRINOLOG$', 'ENDOCRINOLOGY',case=False, regex=True)\n",
    "\n",
    "#FASEB -> FEDERATION OF AMERICAN SOCIETIES FOR EXPERIMENTAL BIOLOGY\n",
    "df['publisher']=df['publisher'].str.replace(r'^(Faseb|Federation.*)', 'FEDERATION OF AMERICAN SOCIETIES FOR EXPERIMENTAL BIOLOGY',case=False, regex=True)\n",
    "\n",
    "#FRONTIERS MEDIA\n",
    "df['publisher']=df['publisher'].str.replace(r'^FRONTIERS.*', 'FRONTIERS MEDIA',case=False, regex=True)\n",
    "\n",
    "#HUMANA PRESS SPRINGER IMPRINT(spacing)\n",
    "df['publisher']=df['publisher'].str.replace(r'^HUMANA.*', 'HUMANA PRESS SPRINGER IMPRINT',case=False, regex=True)\n",
    "\n",
    "#Strip White Space\n",
    "df['publisher']=df['publisher'].str.strip()\n",
    "\n",
    "#Number of Unique Journal Titles remaining\n",
    "print('The number of unique Publisher Titles in dataset: \\n',df.publisher.nunique())"
   ]
  },
  {
   "cell_type": "code",
   "execution_count": null,
   "metadata": {},
   "outputs": [],
   "source": [
    "#df.publisher.unique()"
   ]
  },
  {
   "cell_type": "markdown",
   "metadata": {},
   "source": [
    "TO DO I-P\n",
    "\n",
    "* INFORMA HEALTHCARE\n",
    "* (IUCr) INTERNATIONAL UNION OF CRYSTALLOGRAPHY \n",
    "* Journal of Medical Internet Research J MED INTERNET RESEARCH\n",
    "* JOHN WILEY(check along bottom with wiley blackwell)\n",
    "* THE JOURNAL OF VISUALIZED EXPERIMENTS\n",
    "* LANDES BIOSCIENCE\n",
    "* LWW; Lippincott Williams & Wilkins\n",
    "* MARY ANN LIEBERT\n",
    "* MIT PRESS\n",
    "* MYJoVE Corporation\n",
    "* NATIONAL ACADEMY OF SCIENCES\n",
    "* NATURE\n",
    "* OPEN ACCESS REG\n",
    "* OXFORD UNIVERSITY PRESS(OUP)\n",
    "* (PLOS) PUBLIC LIBRARY OF SCIENCE\n",
    "* PROCEEDINGS OF THE NATIONAL ACADEMY OF SCIENCES (PNAS)\n",
    "* SOCIETY FOR ENDOCRINOLOGY\n"
   ]
  },
  {
   "cell_type": "code",
   "execution_count": null,
   "metadata": {},
   "outputs": [],
   "source": [
    "#INFORMA HEALTHCARE\n",
    "df['publisher']=df['publisher'].str.replace(r'INFORMA.*','INFORMA HEALTHCARE',case=False, regex=True)\n",
    "\n",
    "#(IUCr) INTERNATIONAL UNION OF CRYSTALLOGRAPHY \n",
    "df['publisher']=df['publisher'].str.replace(r'.*CRYSTALLOGRAPHY.*',\n",
    "                                            'INTERNATIONAL UNION OF CRYSTALLOGRAPHY',case=False, regex=True)\n",
    "\n",
    "#Journal of Medical Internet Research J MED INTERNET RESEARCH\n",
    "df['publisher']=df['publisher'].str.replace(r'^j\\s.*',\n",
    "                                            'JOURNAL OF MEDICAL INTERNET RESEARCH',case=False, regex=True)\n",
    "\n",
    "#INSTITUTE OF PHYSICS(IOP)\n",
    "df['publisher']=df['publisher'].str.replace(r'^IOP$',\n",
    "                                            'INSTITUTE OF PHYSICS',case=False, regex=True)\n",
    "\n",
    "##JOHN WILEY, WILEY AND SON, WILEY BLACKWELL are all a part of parent company WILEY\n",
    "df['publisher']=df['publisher'].str.replace(r'.*W(li|IL)EY.*',\n",
    "                                            'WILEY',case=False, regex=True)\n",
    "\n",
    "##THE JOURNAL OF VISUALIZED EXPERIMENTS(JOVE)\n",
    "df['publisher']=df['publisher'].str.replace(r'^JOURNAL OF VISUALIZED.*|^JOVE',\n",
    "                                            'THE JOURNAL OF VISUALIZED EXPERIMENTS',case=False, regex=True)\n",
    "\n",
    "#LANDES BIOSCIENCE\n",
    "df['publisher']=df['publisher'].str.replace(r'LANDES BIOSCIENCE.*',\n",
    "                                          'LANDES BIOSCIENCE',case=False, regex=True)\n",
    "\n",
    "#LWW; Lippincott Williams AND Wilkins\n",
    "df['publisher']=df['publisher'].str.replace(r'LWW',\n",
    "                                            'LIPPINCOTT WILLIAMS AND WILKINS',case=False, regex=True)\n",
    "\n",
    "#MARY ANN LIEBERT\n",
    "df['publisher']=df['publisher'].str.replace(r'MARY ANN LIEBERT.*',\n",
    "                                            'MARY ANN LIEBERT',case=False, regex=True)\n",
    "\n",
    "#MIT PRESS\n",
    "df['publisher']=df['publisher'].str.replace(r'^MIT\\s.*',\n",
    "                                            'MIT PRESS',case=False, regex=True)\n",
    "\n",
    "#MYJoVE Corporation\n",
    "df['publisher']=df['publisher'].str.replace(r'^MY(\\s|\\s*)JOVE.*',\n",
    "                                            'MYJOVE CORPORATION',case=False, regex=True)\n",
    "\n",
    "#NATIONAL ACADEMY OF SCIENCES\n",
    "df['publisher']=df['publisher'].str.replace(r'^NATIONAl.*',\n",
    "                                            'NATIONAL ACADEMY OF SCIENCES',case=False, regex=True)\n",
    "\n",
    "#NATURE\n",
    "df['publisher']=df['publisher'].str.replace(r'^NATURE.*',\n",
    "                                            'NATURE PUBLISHING GROUP',case=False, regex=True)\n",
    "\n",
    "#OXFORD UNIVERSITY PRESS(OUP)\n",
    "df['publisher']=df['publisher'].str.replace(r'^OUP|oxford.*',\n",
    "                                            'OXFORD UNIVERSITY PRESS',case=False, regex=True)\n",
    "\n",
    "#(PLOS) PUBLIC LIBRARY OF SCIENCE\n",
    "df['publisher']=df['publisher'].str.replace(r'^plos.*',\n",
    "                                            'PUBLIC LIBRARY OF SCIENCE',case=False, regex=True)\n",
    "\n",
    "#PROCEEDINGS OF THE NATIONAL ACADEMY OF SCIENCES (PNAS)\n",
    "df['publisher']=df['publisher'].str.replace(r'^(PNAS.*|Proceedings).*',\n",
    "                                            'PROCEEDINGS OF THE NATIONAL ACADEMY OF SCIENCES',case=False, regex=True)\n",
    "\n",
    "#SOCIETY FOR ENDOCRINOLOGY\n",
    "df['publisher']=df['publisher'].str.replace(r'^PUBLISHER',\n",
    "                                            '',case=False, regex=True)\n",
    "\n",
    "#Strip White Space\n",
    "df['publisher']=df['publisher'].str.strip()\n",
    "\n",
    "#Number of Unique Journal Titles remaining\n",
    "print('The number of unique Publisher Titles in dataset: \\n',df.publisher.nunique())"
   ]
  },
  {
   "cell_type": "code",
   "execution_count": null,
   "metadata": {},
   "outputs": [],
   "source": [
    "#df.publisher.unique()"
   ]
  },
  {
   "cell_type": "markdown",
   "metadata": {},
   "source": [
    "Q-END TO DO LIST\n",
    "* PUBMED\n",
    "\n",
    "* THE ROYAL SOCIETY OF CHEMISTRY(RSC)\n",
    "* SAGE PUBLICATIONS\n",
    "* SOCIETY FOR(OF) GENERAL MICROBIOLOGY\n",
    "* SOCIETY FOR(OF) NEUROSCIENCE\n",
    "* SPRINGER PUBLISHING\n",
    "* TAYLOR AND FRANCIS\n",
    "* THE SHERIDAN PRESS\n",
    "* WOLTERS KLUWER"
   ]
  },
  {
   "cell_type": "code",
   "execution_count": null,
   "metadata": {},
   "outputs": [],
   "source": [
    "#PUBMED\n",
    "df['publisher']=df['publisher'].str.replace(r'^pubmed.*',\n",
    "                                            'PUBMED',case=False, regex=True)\n",
    "\n",
    "# THE ROYAL SOCIETY OF CHEMISTRY(RSC)\n",
    "df['publisher']=df['publisher'].str.replace(r'^RSC|.*Royal\\sSociety.*',\n",
    "                                            'THE ROYAL SOCIETY OF CHEMISTRY',case=False, regex=True)\n",
    "# SAGE PUBLICATIONS\n",
    "df['publisher']=df['publisher'].str.replace(r'^Sage.*',\n",
    "                                            'SAGE PUBLICATIONS',case=False, regex=True)\n",
    "# SOCIETY FOR(OF) GENERAL MICROBIOLOGY\n",
    "df['publisher']=df['publisher'].str.replace(r'.*gener(a|ma)l.*',\n",
    "                                            'SOCIETY FOR GENERAL MICROBIOLOGY',case=False, regex=True)\n",
    "# SOCIETY FOR(OF) NEUROSCIENCE\n",
    "df['publisher']=df['publisher'].str.replace(r'.*NEUROSCIENCE(s|.*)$',\n",
    "                                            'SOCIETY FOR NEUROSCIENCE',case=False, regex=True)\n",
    "#SPRINGER PUBLISHING\n",
    "df['publisher']=df['publisher'].str.replace(r'^springer.*',\n",
    "                                            'SPRINGER PUBLISHING',case=False, regex=True)\n",
    "#TAYLOR AND FRANCIS\n",
    "df['publisher']=df['publisher'].str.replace(r'^taylor.*|^TANDF',\n",
    "                                            'TAYLOR AND FRANCIS',case=False, regex=True)\n",
    "# THE SHERIDAN PRESS\n",
    "df['publisher']=df['publisher'].str.replace(r'.*SHERIDAN.*',\n",
    "                                            'THE SHERIDAN PRESS',case=False, regex=True)\n",
    "# WOLTERS KLUWER\n",
    "df['publisher']=df['publisher'].str.replace(r'.*KLUWER.*',\n",
    "                                            'WOLTERS KLUWER',case=False, regex=True)\n",
    "\n",
    "\n",
    "#SOCIETY FOR LEUKOCYTE BIOLOGY\n",
    "df['publisher']=df['publisher'].str.replace(r'.*LEUKOCYTE.*',\n",
    "                                            'SOCIETY FOR LEUKOCYTE BIOLOGY',case=False, regex=True)\n",
    "\n",
    "#ACTA DERMATO VENEREOLOGICA\n",
    "df['publisher']=df['publisher'].str.replace(r'.*VENEREOLOGICA.*',\n",
    "                                            'ACTA DERMATO VENEREOLOGICA',case=False, regex=True)\n",
    "#Strip White Space\n",
    "df['publisher']=df['publisher'].str.strip()\n",
    "\n",
    "#Number of Unique Journal Titles remaining\n",
    "print('The number of unique Publisher Titles in dataset: \\n',df.publisher.nunique())"
   ]
  },
  {
   "cell_type": "code",
   "execution_count": null,
   "metadata": {},
   "outputs": [],
   "source": [
    "#df.publisher.unique()"
   ]
  },
  {
   "cell_type": "markdown",
   "metadata": {},
   "source": [
    "This looks great so far. Let's finish up our cleaning effots on the Journal Title column and we wil move onto answering some of the stats questions about the data set."
   ]
  },
  {
   "cell_type": "markdown",
   "metadata": {},
   "source": [
    "### Cleaning Journal Title column"
   ]
  },
  {
   "cell_type": "markdown",
   "metadata": {},
   "source": [
    "**Metrics**\n",
    "I think it would be wise to attempt to reduct the number of unique Journal Titles as best as possible. "
   ]
  },
  {
   "cell_type": "code",
   "execution_count": null,
   "metadata": {},
   "outputs": [],
   "source": [
    "print('The number of unique Journal Titles in dataset: \\n',df.journal_title.nunique())\n",
    "#print('\\nUnique Journal Titles are: \\n', df.journal_title.unique())"
   ]
  },
  {
   "cell_type": "markdown",
   "metadata": {},
   "source": [
    "We will have our work cut out for us here. Let's start with the easy stuff\n",
    "* Capitalize all Characters\n",
    "* Replace J with JOURNAL OF\n",
    "* Replace & with AND\n",
    "* Replace med with MEDICINAL\n",
    "* Repalce chem with CHEMISTRY\n",
    "* BIOL with BIOLOGICAL\n",
    "* Org with ORGANIC\n",
    "* Pharm with PHARMACY\n",
    "* mol with MOLECULAR \n",
    "* Strip White Space"
   ]
  },
  {
   "cell_type": "code",
   "execution_count": null,
   "metadata": {},
   "outputs": [],
   "source": [
    "#Capitalize all Characters\n",
    "df['journal_title']=df['journal_title'].str.upper()\n",
    "\n",
    "#Replace ^J's with JOURNAL OF\n",
    "df['journal_title']=df['journal_title'].str.replace(r'J\\s',\n",
    "                                                    'JOURNAL OF ', case=False,regex=True)\n",
    "#Replace & with AND\n",
    "df['journal_title']=df['journal_title'].str.replace(r'&',\n",
    "                                                    'AND', case=False,regex=True)\n",
    "#Replace med with MEDICINAL \n",
    "df['journal_title']=df['journal_title'].str.replace(r'med\\s',\n",
    "                                                    'MEDICINAL ', case=False,regex=True)\n",
    "#Repalce chem with CHEMISTRY\n",
    "df['journal_title']=df['journal_title'].str.replace(r'chem($|\\s|\\.)',\n",
    "                                                    'CHEMISTRY', case=False,regex=True)\n",
    "\n",
    "#BIOL with BIOLOGICAL\n",
    "df['journal_title']=df['journal_title'].str.replace(r'biol($|\\s|\\.)',\n",
    "                                                    'BIOLOGICAL ', case=False,regex=True)\n",
    "\n",
    "#Org with ORGANIC\n",
    "df['journal_title']=df['journal_title'].str.replace(r'org\\s',\n",
    "                                                    'ORGANIC ', case=False,regex=True)\n",
    "\n",
    "#Pharm with PHARMACY\n",
    "df['journal_title']=df['journal_title'].str.replace(r'PHARM($|\\s)',\n",
    "                                                    'PHARMACY', case=False,regex=True)\n",
    "#mol with MOLECULAR \n",
    "df['journal_title']=df['journal_title'].str.replace(r'mol\\s',\n",
    "                                                    'MOLECULAR ', case=False,regex=True)\n",
    "\n",
    "# #Strip White Space\n",
    "df['journal_title']=df['journal_title'].str.strip()\n",
    "\n",
    "#Number of Unique Journal Titles remaining\n",
    "print('The number of unique Publisher Titles in dataset: \\n',df.journal_title.nunique())"
   ]
  },
  {
   "cell_type": "code",
   "execution_count": null,
   "metadata": {},
   "outputs": [],
   "source": [
    "#print('\\nUnique Journal Titles are: \\n', df.journal_title.unique())"
   ]
  },
  {
   "cell_type": "markdown",
   "metadata": {},
   "source": [
    "TO DO\n",
    "* Replace THE JOURNAL with JOURNAL\n",
    "* Replace \\s\\s with \\s\n",
    "* Replace clin with CLINICAL\n",
    "* Replace hum with HUMAN\n",
    "* AGFENTS with AGENTS\n",
    "* Sci(.) with SCIENCE\n",
    "* Remove .\n",
    "* infec with INFECTION\n",
    "* Rogue (\n",
    "* bio with BIOLOGY\n",
    "* IJTLD with International Journal of Tuberculosis and Lung Disease\n",
    "* strip white space"
   ]
  },
  {
   "cell_type": "code",
   "execution_count": null,
   "metadata": {},
   "outputs": [],
   "source": [
    "#Replace THE JOURNAL with JOURNAL\n",
    "df['journal_title']=df['journal_title'].str.replace(r'THE JOURNAL',\n",
    "                                                    'JOURNAL', case=False,regex=True)\n",
    "#Replace \\s\\s with \\s\n",
    "df['journal_title']=df['journal_title'].str.replace(r'\\s\\s',\n",
    "                                                    ' ', case=False,regex=True)\n",
    "#Replace clin with CLINICAL\n",
    "df['journal_title']=df['journal_title'].str.replace(r'clin(\\s|\\.|$)',\n",
    "                                                    'CLINICAL', case=False,regex=True)\n",
    "#Replace hum with HUMAN\n",
    "df['journal_title']=df['journal_title'].str.replace(r'hum(\\s|\\.|$)',\n",
    "                                                    'HUMAN', case=False,regex=True)\n",
    "#AGFENTS with AGENTS\n",
    "df['journal_title']=df['journal_title'].str.replace(r'ag(e|fe)nt',\n",
    "                                                    'AGENT', case=False,regex=True)\n",
    "#Sci(.) with SCIENCE\n",
    "df['journal_title']=df['journal_title'].str.replace(r'sci\\.',\n",
    "                                                    'SCIENCE', case=False,regex=True)\n",
    "#Remove .\n",
    "df['journal_title']=df['journal_title'].str.replace(r'\\.',\n",
    "                                                    '', case=False,regex=True)\n",
    "#infec with INFECTION\n",
    "df['journal_title']=df['journal_title'].str.replace(r'infec',\n",
    "                                                    'INFECTION', case=False,regex=True)\n",
    "\n",
    "#Remove Rogue (\n",
    "df['journal_title']=df['journal_title'].str.replace(r'\\($',\n",
    "                                                    '', case=False,regex=True)\n",
    "#Bio with BIOLOGY\n",
    "df['journal_title']=df['journal_title'].str.replace(r'bio\\s',\n",
    "                                                    'BIOLOGY', case=False,regex=True)\n",
    "\n",
    "#IJTLD with INTERNATIONAL JOURNAL OF TUBERCULOSIS AND LUNG DISEASE\n",
    "df['journal_title']=df['journal_title'].str.replace(r'IJTLD',\n",
    "                                                    'INTERNATIONAL JOURNAL OF TUBERCULOSIS AND LUNG DISEASE', case=False,regex=True)\n",
    "#Strip White Space\n",
    "df['journal_title']=df['journal_title'].str.strip()\n",
    "\n",
    "#Number of Unique Journal Titles remaining\n",
    "print('The number of unique Publisher Titles in dataset: \\n',df.journal_title.nunique())"
   ]
  },
  {
   "cell_type": "markdown",
   "metadata": {},
   "source": [
    "There are still some issues remaining but I have cleaned enough where we can do a statistical analysis on the data. I am not too concerned about the remaining errors with the Journal titles namely because the errors are minor and the PMID/PMC as well as the publisher/article info should be enough to pull up the relevant journal titles as needed."
   ]
  },
  {
   "cell_type": "markdown",
   "metadata": {},
   "source": [
    "## STATISTICAL ANALYSIS\n",
    "\n",
    "**Determine the five most common journals and the total articles for each.**"
   ]
  },
  {
   "cell_type": "code",
   "execution_count": null,
   "metadata": {},
   "outputs": [],
   "source": [
    "#Aggreagate article counts, sorted largest to smallest, by journal\n",
    "count= df.groupby('journal_title')['article_title'].count().sort_values(ascending=False).reset_index()\n",
    "\n",
    "#Rename stats column headers for easy interpretation\n",
    "cols= ['Journal', 'Article_Count']\n",
    "count.columns=cols\n",
    "\n",
    "#Display five most common journals and the total articles for each\n",
    "count.head(5)"
   ]
  },
  {
   "cell_type": "markdown",
   "metadata": {},
   "source": [
    "**Calculate the mean, median, and standard deviation of the open-access cost per article for each journal.**"
   ]
  },
  {
   "cell_type": "code",
   "execution_count": null,
   "metadata": {},
   "outputs": [],
   "source": [
    "#Replace 999999.0 cost with nan\n",
    "df['cost(£)']=df['cost(£)'].replace(999999.0 , np.nan)\n",
    "\n",
    "#Aggregate stats for each journal title\n",
    "stats=df.groupby('journal_title')['cost(£)'].agg({'AVG COST':'mean', 'MEDIAN COST':'median','COST STD':'std'})\n",
    "\n",
    "#Display stats\n",
    "stats"
   ]
  }
 ],
 "metadata": {
  "kernelspec": {
   "display_name": "Python 3",
   "language": "python",
   "name": "python3"
  },
  "language_info": {
   "codemirror_mode": {
    "name": "ipython",
    "version": 3
   },
   "file_extension": ".py",
   "mimetype": "text/x-python",
   "name": "python",
   "nbconvert_exporter": "python",
   "pygments_lexer": "ipython3",
   "version": "3.7.3"
  }
 },
 "nbformat": 4,
 "nbformat_minor": 4
}
